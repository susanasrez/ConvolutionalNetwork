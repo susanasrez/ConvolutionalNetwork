{
 "cells": [
  {
   "cell_type": "code",
   "execution_count": 1,
   "metadata": {},
   "outputs": [],
   "source": [
    "import torch\n",
    "import torch.nn as nn\n",
    "import torch.optim as optim\n",
    "from torchvision import transforms, datasets\n",
    "from torchvision import models, transforms\n",
    "\n",
    "import matplotlib.pyplot as plt\n",
    "import numpy as np\n",
    "import os\n",
    "import random\n",
    "import wandb"
   ]
  },
  {
   "cell_type": "code",
   "execution_count": 2,
   "metadata": {},
   "outputs": [
    {
     "name": "stderr",
     "output_type": "stream",
     "text": [
      "Failed to detect the name of this notebook, you can set it manually with the WANDB_NOTEBOOK_NAME environment variable to enable code saving.\n",
      "\u001b[34m\u001b[1mwandb\u001b[0m: Currently logged in as: \u001b[33msusanasrez\u001b[0m (\u001b[33mdata2023\u001b[0m). Use \u001b[1m`wandb login --relogin`\u001b[0m to force relogin\n"
     ]
    },
    {
     "data": {
      "text/html": [
       "Tracking run with wandb version 0.16.1"
      ],
      "text/plain": [
       "<IPython.core.display.HTML object>"
      ]
     },
     "metadata": {},
     "output_type": "display_data"
    },
    {
     "data": {
      "text/html": [
       "Run data is saved locally in <code>c:\\Users\\Susana\\Desktop\\Universidad\\Tercero\\Primer\\AA2\\project\\ConvolutionalNetwork\\wandb\\run-20231223_203247-8djrsfjw</code>"
      ],
      "text/plain": [
       "<IPython.core.display.HTML object>"
      ]
     },
     "metadata": {},
     "output_type": "display_data"
    },
    {
     "data": {
      "text/html": [
       "Syncing run <strong><a href='https://wandb.ai/data2023/FaceRecognition/runs/8djrsfjw' target=\"_blank\">Prueba5_Adam</a></strong> to <a href='https://wandb.ai/data2023/FaceRecognition' target=\"_blank\">Weights & Biases</a> (<a href='https://wandb.me/run' target=\"_blank\">docs</a>)<br/>"
      ],
      "text/plain": [
       "<IPython.core.display.HTML object>"
      ]
     },
     "metadata": {},
     "output_type": "display_data"
    },
    {
     "data": {
      "text/html": [
       " View project at <a href='https://wandb.ai/data2023/FaceRecognition' target=\"_blank\">https://wandb.ai/data2023/FaceRecognition</a>"
      ],
      "text/plain": [
       "<IPython.core.display.HTML object>"
      ]
     },
     "metadata": {},
     "output_type": "display_data"
    },
    {
     "data": {
      "text/html": [
       " View run at <a href='https://wandb.ai/data2023/FaceRecognition/runs/8djrsfjw' target=\"_blank\">https://wandb.ai/data2023/FaceRecognition/runs/8djrsfjw</a>"
      ],
      "text/plain": [
       "<IPython.core.display.HTML object>"
      ]
     },
     "metadata": {},
     "output_type": "display_data"
    }
   ],
   "source": [
    "wandb.init(project=\"FaceRecognition\", name=\"Prueba5_Adam\")\n",
    "\n",
    "seed = 42 \n",
    "torch.manual_seed(seed)\n",
    "torch.cuda.manual_seed(seed)\n",
    "\n",
    "np.random.seed(seed)\n",
    "random.seed(seed)\n"
   ]
  },
  {
   "cell_type": "markdown",
   "metadata": {},
   "source": [
    "## Cargar datos"
   ]
  },
  {
   "cell_type": "code",
   "execution_count": 3,
   "metadata": {},
   "outputs": [],
   "source": [
    "seed = 42\n",
    "random.seed(seed)\n",
    "np.random.seed(seed)\n",
    "torch.manual_seed(seed)\n",
    "torch.cuda.manual_seed(seed)\n",
    "\n",
    "DATASET = os.path.abspath('real_and_fake_face/')\n",
    "INITIAL_SIZE_OF_IMAGES = (160, 160)"
   ]
  },
  {
   "cell_type": "code",
   "execution_count": 4,
   "metadata": {},
   "outputs": [],
   "source": [
    "data_transforms = transforms.Compose([\n",
    "    transforms.Resize(INITIAL_SIZE_OF_IMAGES),\n",
    "    transforms.ToTensor(),\n",
    "    transforms.Normalize(mean=[0.5, 0.5, 0.5], std=[0.5, 0.5, 0.5])  # Normalizar cada canal\n",
    "])\n",
    "\n",
    "dataset = datasets.ImageFolder(root=DATASET, transform=data_transforms)"
   ]
  },
  {
   "cell_type": "code",
   "execution_count": 5,
   "metadata": {},
   "outputs": [],
   "source": [
    "train_size = int(0.8 * len(dataset))\n",
    "valid_size = int(0.1 * len(dataset))\n",
    "test_size = len(dataset) - train_size - valid_size\n",
    "\n",
    "train_dataset, valid_dataset, test_dataset = torch.utils.data.random_split(dataset, [train_size, valid_size, test_size])\n",
    "\n",
    "# Transformaciones a los conjuntos de datos (train, valid, test)\n",
    "train_dataset.transform = data_transforms\n",
    "valid_dataset.transform = data_transforms\n",
    "test_dataset.transform = data_transforms\n",
    "\n",
    "train_loader = torch.utils.data.DataLoader(dataset=train_dataset, batch_size=64, shuffle=True)\n",
    "valid_loader = torch.utils.data.DataLoader(dataset=valid_dataset, batch_size=64, shuffle=False)\n",
    "test_loader = torch.utils.data.DataLoader(dataset=test_dataset, shuffle=False)"
   ]
  },
  {
   "cell_type": "code",
   "execution_count": 6,
   "metadata": {},
   "outputs": [
    {
     "name": "stdout",
     "output_type": "stream",
     "text": [
      "Usando cpu para entrenar\n"
     ]
    }
   ],
   "source": [
    "torch.cuda.empty_cache()\n",
    "device = torch.device('cuda' if torch.cuda.is_available() else 'cpu')\n",
    "print(f'Usando {device} para entrenar')"
   ]
  },
  {
   "cell_type": "code",
   "execution_count": 7,
   "metadata": {},
   "outputs": [],
   "source": [
    "from sklearn.model_selection import StratifiedKFold"
   ]
  },
  {
   "cell_type": "code",
   "execution_count": 8,
   "metadata": {},
   "outputs": [],
   "source": [
    "train_size = int(0.8 * len(dataset))\n",
    "valid_size = int(0.1 * len(dataset))\n",
    "test_size = len(dataset) - train_size - valid_size\n",
    "\n",
    "train_dataset, valid_dataset, test_dataset = torch.utils.data.random_split(dataset, [train_size, valid_size, test_size])\n",
    "\n",
    "\n",
    "massive_data_augmentation = transforms.Compose([\n",
    "    transforms.RandomRotation(30),\n",
    "    transforms.RandomResizedCrop(224),\n",
    "    transforms.RandomHorizontalFlip(),\n",
    "    transforms.ColorJitter(brightness=0.2, contrast=0.2, saturation=0.2, hue=0.1),\n",
    "    transforms.RandomAffine(degrees=0, translate=(0.1, 0.1)),\n",
    "    transforms.ToTensor(),\n",
    "    transforms.Normalize(mean=[0.485, 0.456, 0.406], std=[0.229, 0.224, 0.225])  # Normalización\n",
    "])\n",
    "\n",
    "train_dataset.dataset.transform = massive_data_augmentation\n",
    "valid_dataset.dataset.transform = transforms.Compose([\n",
    "    transforms.Resize(256),\n",
    "    transforms.CenterCrop(224),\n",
    "    transforms.ToTensor(),\n",
    "    transforms.Normalize(mean=[0.485, 0.456, 0.406], std=[0.229, 0.224, 0.225])\n",
    "])\n",
    "test_dataset.dataset.transform = transforms.Compose([\n",
    "    transforms.Resize(256),\n",
    "    transforms.CenterCrop(224),\n",
    "    transforms.ToTensor(),\n",
    "    transforms.Normalize(mean=[0.485, 0.456, 0.406], std=[0.229, 0.224, 0.225])\n",
    "])\n"
   ]
  },
  {
   "cell_type": "code",
   "execution_count": 9,
   "metadata": {},
   "outputs": [],
   "source": [
    "k_folds = 5\n",
    "skf = StratifiedKFold(n_splits=k_folds, shuffle=True, random_state=42)\n",
    "combined_dataset = train_dataset + valid_dataset\n",
    "\n",
    "combined_labels = [label for _, label in combined_dataset]\n"
   ]
  },
  {
   "cell_type": "code",
   "execution_count": 10,
   "metadata": {},
   "outputs": [
    {
     "name": "stderr",
     "output_type": "stream",
     "text": [
      "c:\\Users\\Susana\\anaconda3\\envs\\aa2\\lib\\site-packages\\torchvision\\models\\_utils.py:208: UserWarning: The parameter 'pretrained' is deprecated since 0.13 and may be removed in the future, please use 'weights' instead.\n",
      "  warnings.warn(\n",
      "c:\\Users\\Susana\\anaconda3\\envs\\aa2\\lib\\site-packages\\torchvision\\models\\_utils.py:223: UserWarning: Arguments other than a weight enum or `None` for 'weights' are deprecated since 0.13 and may be removed in the future. The current behavior is equivalent to passing `weights=ResNet18_Weights.IMAGENET1K_V1`. You can also use `weights=ResNet18_Weights.DEFAULT` to get the most up-to-date weights.\n",
      "  warnings.warn(msg)\n"
     ]
    }
   ],
   "source": [
    "resnet18 = models.resnet18(pretrained=True)"
   ]
  },
  {
   "cell_type": "code",
   "execution_count": 11,
   "metadata": {},
   "outputs": [],
   "source": [
    "for param in resnet18.parameters():\n",
    "    param.requires_grad = False"
   ]
  },
  {
   "cell_type": "code",
   "execution_count": 12,
   "metadata": {},
   "outputs": [],
   "source": [
    "resnet18.fc = nn.Sequential(\n",
    "    nn.Linear(resnet18.fc.in_features, 512),\n",
    "    nn.ReLU(inplace=True),\n",
    "    nn.Dropout(0.5),\n",
    "    nn.Linear(512, 256),\n",
    "    nn.ReLU(inplace=True),\n",
    "    nn.Dropout(0.3),\n",
    "    nn.Linear(256, 2),\n",
    ")"
   ]
  },
  {
   "cell_type": "markdown",
   "metadata": {},
   "source": [
    "## Reentrenar"
   ]
  },
  {
   "cell_type": "code",
   "execution_count": 13,
   "metadata": {},
   "outputs": [],
   "source": [
    "criterion = nn.CrossEntropyLoss().to(device)\n",
    "#optimizer = optim.Adadelta(resnet18.parameters(), lr=1, weight_decay=0.001)\n",
    "optimizer = optim.AdamW(resnet18.parameters(), lr=0.001, weight_decay=0.001)\n",
    "#optimizer = optim.Adam(resnet18.parameters(), lr=0.001, weight_decay=0.001)"
   ]
  },
  {
   "cell_type": "code",
   "execution_count": 14,
   "metadata": {},
   "outputs": [
    {
     "name": "stdout",
     "output_type": "stream",
     "text": [
      "Fold 1/5\n",
      "Epoch [1/10], Train Loss: 0.7029, Train Acc: 52.86%, Valid Loss: 0.6709, Valid Acc: 52.72%\n",
      "Epoch [2/10], Train Loss: 0.6919, Train Acc: 55.99%, Valid Loss: 0.6531, Valid Acc: 56.25%\n",
      "Epoch [3/10], Train Loss: 0.6502, Train Acc: 61.51%, Valid Loss: 0.6276, Valid Acc: 67.12%\n",
      "Epoch [4/10], Train Loss: 0.6319, Train Acc: 63.96%, Valid Loss: 0.6390, Valid Acc: 62.50%\n",
      "Epoch [5/10], Train Loss: 0.6281, Train Acc: 64.65%, Valid Loss: 0.6097, Valid Acc: 68.21%\n",
      "Epoch [6/10], Train Loss: 0.6005, Train Acc: 67.71%, Valid Loss: 0.6092, Valid Acc: 67.66%\n",
      "Epoch [7/10], Train Loss: 0.5860, Train Acc: 69.14%, Valid Loss: 0.6304, Valid Acc: 63.86%\n",
      "Epoch [8/10], Train Loss: 0.6040, Train Acc: 67.44%, Valid Loss: 0.6042, Valid Acc: 69.84%\n",
      "Epoch [9/10], Train Loss: 0.5731, Train Acc: 70.10%, Valid Loss: 0.6132, Valid Acc: 64.40%\n",
      "Epoch [10/10], Train Loss: 0.5881, Train Acc: 67.71%, Valid Loss: 0.6146, Valid Acc: 64.95%\n",
      "Fold 2/5\n",
      "Epoch [1/10], Train Loss: 0.6136, Train Acc: 68.62%, Valid Loss: 0.5790, Valid Acc: 73.84%\n",
      "Epoch [2/10], Train Loss: 0.5892, Train Acc: 68.35%, Valid Loss: 0.5522, Valid Acc: 73.57%\n",
      "Epoch [3/10], Train Loss: 0.5843, Train Acc: 69.91%, Valid Loss: 0.5743, Valid Acc: 71.12%\n",
      "Epoch [4/10], Train Loss: 0.5764, Train Acc: 70.66%, Valid Loss: 0.5691, Valid Acc: 73.30%\n",
      "Epoch [5/10], Train Loss: 0.5543, Train Acc: 71.14%, Valid Loss: 0.6028, Valid Acc: 67.30%\n",
      "Epoch [6/10], Train Loss: 0.5614, Train Acc: 72.29%, Valid Loss: 0.5690, Valid Acc: 71.39%\n",
      "Epoch [7/10], Train Loss: 0.5361, Train Acc: 73.79%, Valid Loss: 0.5849, Valid Acc: 70.03%\n",
      "Epoch [8/10], Train Loss: 0.5227, Train Acc: 73.59%, Valid Loss: 0.5699, Valid Acc: 71.93%\n",
      "Epoch [9/10], Train Loss: 0.5323, Train Acc: 72.91%, Valid Loss: 0.6037, Valid Acc: 65.94%\n",
      "Epoch [10/10], Train Loss: 0.5439, Train Acc: 73.25%, Valid Loss: 0.5965, Valid Acc: 70.84%\n",
      "Fold 3/5\n",
      "Epoch [1/10], Train Loss: 0.5704, Train Acc: 70.80%, Valid Loss: 0.4638, Valid Acc: 78.75%\n",
      "Epoch [2/10], Train Loss: 0.5530, Train Acc: 72.63%, Valid Loss: 0.4819, Valid Acc: 77.93%\n",
      "Epoch [3/10], Train Loss: 0.5667, Train Acc: 70.66%, Valid Loss: 0.4884, Valid Acc: 78.47%\n",
      "Epoch [4/10], Train Loss: 0.5427, Train Acc: 72.77%, Valid Loss: 0.4769, Valid Acc: 79.29%\n",
      "Epoch [5/10], Train Loss: 0.5248, Train Acc: 75.70%, Valid Loss: 0.4837, Valid Acc: 78.75%\n",
      "Epoch [6/10], Train Loss: 0.5009, Train Acc: 74.81%, Valid Loss: 0.4790, Valid Acc: 77.66%\n",
      "Epoch [7/10], Train Loss: 0.5118, Train Acc: 75.09%, Valid Loss: 0.5054, Valid Acc: 76.29%\n",
      "Epoch [8/10], Train Loss: 0.4983, Train Acc: 75.56%, Valid Loss: 0.4972, Valid Acc: 76.57%\n",
      "Epoch [9/10], Train Loss: 0.5308, Train Acc: 71.89%, Valid Loss: 0.5208, Valid Acc: 74.93%\n",
      "Epoch [10/10], Train Loss: 0.5270, Train Acc: 72.29%, Valid Loss: 0.5314, Valid Acc: 74.66%\n",
      "Fold 4/5\n",
      "Epoch [1/10], Train Loss: 0.5260, Train Acc: 74.06%, Valid Loss: 0.4201, Valid Acc: 84.20%\n",
      "Epoch [2/10], Train Loss: 0.5199, Train Acc: 74.54%, Valid Loss: 0.4332, Valid Acc: 82.02%\n",
      "Epoch [3/10], Train Loss: 0.4911, Train Acc: 76.38%, Valid Loss: 0.4473, Valid Acc: 80.65%\n",
      "Epoch [4/10], Train Loss: 0.4643, Train Acc: 76.92%, Valid Loss: 0.4256, Valid Acc: 80.93%\n",
      "Epoch [5/10], Train Loss: 0.4737, Train Acc: 77.13%, Valid Loss: 0.4416, Valid Acc: 79.02%\n",
      "Epoch [6/10], Train Loss: 0.5052, Train Acc: 74.95%, Valid Loss: 0.4461, Valid Acc: 78.20%\n",
      "Epoch [7/10], Train Loss: 0.4971, Train Acc: 74.54%, Valid Loss: 0.4863, Valid Acc: 77.11%\n",
      "Epoch [8/10], Train Loss: 0.4811, Train Acc: 76.79%, Valid Loss: 0.4623, Valid Acc: 79.84%\n",
      "Epoch [9/10], Train Loss: 0.4597, Train Acc: 76.86%, Valid Loss: 0.4763, Valid Acc: 79.02%\n",
      "Epoch [10/10], Train Loss: 0.4618, Train Acc: 76.51%, Valid Loss: 0.4827, Valid Acc: 77.66%\n",
      "Fold 5/5\n",
      "Epoch [1/10], Train Loss: 0.4826, Train Acc: 75.63%, Valid Loss: 0.3591, Valid Acc: 84.47%\n",
      "Epoch [2/10], Train Loss: 0.4741, Train Acc: 76.38%, Valid Loss: 0.3758, Valid Acc: 85.29%\n",
      "Epoch [3/10], Train Loss: 0.4562, Train Acc: 77.88%, Valid Loss: 0.3850, Valid Acc: 83.65%\n",
      "Epoch [4/10], Train Loss: 0.4452, Train Acc: 79.31%, Valid Loss: 0.3979, Valid Acc: 82.29%\n",
      "Epoch [5/10], Train Loss: 0.4610, Train Acc: 77.74%, Valid Loss: 0.4199, Valid Acc: 81.47%\n",
      "Epoch [6/10], Train Loss: 0.4426, Train Acc: 77.88%, Valid Loss: 0.4348, Valid Acc: 80.65%\n",
      "Epoch [7/10], Train Loss: 0.4285, Train Acc: 77.88%, Valid Loss: 0.4737, Valid Acc: 78.20%\n",
      "Epoch [8/10], Train Loss: 0.4481, Train Acc: 78.28%, Valid Loss: 0.4583, Valid Acc: 79.56%\n",
      "Epoch [9/10], Train Loss: 0.4388, Train Acc: 78.76%, Valid Loss: 0.4480, Valid Acc: 82.29%\n",
      "Epoch [10/10], Train Loss: 0.4224, Train Acc: 78.97%, Valid Loss: 0.4517, Valid Acc: 79.84%\n",
      "Entrenamiento finalizado!\n"
     ]
    }
   ],
   "source": [
    "num_epochs = 10\n",
    "train_losses = []\n",
    "valid_losses = []\n",
    "train_accuracies = []\n",
    "valid_accuracies = []\n",
    "\n",
    "for fold, (train_index, valid_index) in enumerate(skf.split(np.zeros(len(combined_labels)), combined_labels)):\n",
    "    print(f'Fold {fold + 1}/{k_folds}')\n",
    "    \n",
    "    train_fold = torch.utils.data.Subset(combined_dataset, train_index)\n",
    "    valid_fold = torch.utils.data.Subset(combined_dataset, valid_index)\n",
    "\n",
    "    train_loader = torch.utils.data.DataLoader(dataset=train_fold, batch_size=64, shuffle=True)\n",
    "    valid_loader = torch.utils.data.DataLoader(dataset=valid_fold, batch_size=64, shuffle=False)\n",
    "    \n",
    "    fold_train_losses = []\n",
    "    fold_valid_losses = []\n",
    "    fold_train_accuracies = []\n",
    "    fold_valid_accuracies = []\n",
    "\n",
    "    for epoch in range(num_epochs):\n",
    "        resnet18.train()\n",
    "        training_loss = 0.0\n",
    "        correct_train = 0\n",
    "        total_train = 0\n",
    "        for i, (images, labels) in enumerate(train_loader):\n",
    "            images = images.to(device)\n",
    "            labels = labels.to(device)\n",
    "\n",
    "            optimizer.zero_grad()\n",
    "\n",
    "            outputs = resnet18(images)\n",
    "            loss = criterion(outputs, labels)\n",
    "            loss.backward()\n",
    "            optimizer.step()\n",
    "\n",
    "            training_loss += loss.item()\n",
    "\n",
    "            _, predicted = torch.max(outputs.data, 1)\n",
    "            total_train += labels.size(0)\n",
    "            correct_train += (predicted == labels).sum().item()\n",
    "\n",
    "\n",
    "        avg_train_loss = training_loss / len(train_loader)\n",
    "        train_losses.append(avg_train_loss)\n",
    "        train_accuracy = 100 * correct_train / total_train\n",
    "        train_accuracies.append(train_accuracy)\n",
    "\n",
    "        resnet18.eval()\n",
    "        valid_loss = 0.0\n",
    "        correct_valid = 0\n",
    "        total_valid = 0\n",
    "        with torch.no_grad():\n",
    "            for images, labels in valid_loader:\n",
    "                images = images.to(device)\n",
    "                labels = labels.to(device)\n",
    "\n",
    "                outputs = resnet18(images)\n",
    "                loss = criterion(outputs, labels)\n",
    "                valid_loss += loss.item()\n",
    "\n",
    "                _, predicted = torch.max(outputs.data, 1)\n",
    "                total_valid += labels.size(0)\n",
    "                correct_valid += (predicted == labels).sum().item()\n",
    "\n",
    "        avg_valid_loss = valid_loss / len(valid_loader)\n",
    "        valid_losses.append(avg_valid_loss)\n",
    "        valid_accuracy = 100 * correct_valid / total_valid\n",
    "        valid_accuracies.append(valid_accuracy)\n",
    "\n",
    "        fold_train_losses.append(avg_train_loss)\n",
    "        fold_train_accuracies.append(train_accuracy)\n",
    "        fold_valid_losses.append(avg_valid_loss)\n",
    "        fold_valid_accuracies.append(valid_accuracy)\n",
    "\n",
    "        print(f'Epoch [{epoch+1}/{num_epochs}], Train Loss: {avg_train_loss:.4f}, Train Acc: {train_accuracy:.2f}%, Valid Loss: {avg_valid_loss:.4f}, Valid Acc: {valid_accuracy:.2f}%')\n",
    "        wandb.log({\"Train Loss\": avg_train_loss, \"Train Acc\": train_accuracy, \"Valid Loss\": avg_valid_loss, \"Valid Acc\": valid_accuracy})\n",
    "\n",
    "\n",
    "print(\"Entrenamiento finalizado!\")\n",
    "\n",
    "    "
   ]
  },
  {
   "cell_type": "code",
   "execution_count": 15,
   "metadata": {},
   "outputs": [
    {
     "data": {
      "image/png": "[encoded data removed]",
      "text/plain": [
       "<Figure size 1200x500 with 2 Axes>"
      ]
     },
     "metadata": {},
     "output_type": "display_data"
    }
   ],
   "source": [
    "epochs = range(1, len(train_losses) + 1)\n",
    "\n",
    "plt.figure(figsize=(12, 5))\n",
    "\n",
    "plt.subplot(1, 2, 1)\n",
    "plt.plot(epochs, train_losses, 'r', label='Train Loss')\n",
    "plt.plot(epochs, valid_losses, 'b', label='Valid Loss')\n",
    "plt.title('Train and Validation Losses')\n",
    "plt.xlabel('Epochs')\n",
    "plt.ylabel('Loss')\n",
    "plt.legend()\n",
    "\n",
    "plt.subplot(1, 2, 2)\n",
    "plt.plot(epochs, train_accuracies, 'r', label='Train Accuracy')\n",
    "plt.plot(epochs, valid_accuracies, 'b', label='Valid Accuracy')\n",
    "plt.title('Train and Validation Accuracies')\n",
    "plt.xlabel('Epochs')\n",
    "plt.ylabel('Accuracy')\n",
    "plt.legend()\n",
    "\n",
    "plt.tight_layout()\n",
    "plt.show()"
   ]
  },
  {
   "cell_type": "markdown",
   "metadata": {},
   "source": [
    "## Evaluando el modelo"
   ]
  },
  {
   "cell_type": "code",
   "execution_count": 16,
   "metadata": {},
   "outputs": [],
   "source": [
    "from sklearn.metrics import confusion_matrix\n",
    "\n",
    "resnet18.eval()\n",
    "predicted_labels = []\n",
    "true_labels = []\n",
    "\n",
    "with torch.no_grad():\n",
    "    for images, labels in test_loader:\n",
    "        outputs = resnet18(images)\n",
    "        _, predicted = torch.max(outputs.data, 1)\n",
    "        \n",
    "        predicted_labels.extend(predicted.cpu().numpy())\n",
    "        true_labels.extend(labels.cpu().numpy())\n",
    "\n",
    "conf_matrix = confusion_matrix(true_labels, predicted_labels)\n",
    "#wandb.log({\"Matriz_confusión\": conf_matrix})\n"
   ]
  },
  {
   "cell_type": "code",
   "execution_count": 17,
   "metadata": {},
   "outputs": [
    {
     "name": "stdout",
     "output_type": "stream",
     "text": [
      "[[ 67  30]\n",
      " [  7 101]]\n"
     ]
    }
   ],
   "source": [
    "print(conf_matrix)"
   ]
  },
  {
   "cell_type": "code",
   "execution_count": 18,
   "metadata": {},
   "outputs": [
    {
     "data": {
      "image/png": "[encoded data removed]",
      "text/plain": [
       "<Figure size 640x480 with 1 Axes>"
      ]
     },
     "metadata": {},
     "output_type": "display_data"
    }
   ],
   "source": [
    "from sklearn.metrics import roc_curve, auc\n",
    "import matplotlib.pyplot as plt\n",
    "\n",
    "resnet18.eval()\n",
    "with torch.no_grad():\n",
    "    all_labels = []\n",
    "    all_predictions = []\n",
    "    for images, labels in test_loader:\n",
    "        outputs = resnet18(images)\n",
    "        predicted_probs = torch.softmax(outputs, dim=1)\n",
    "        all_labels.extend(labels.numpy())\n",
    "        all_predictions.extend(predicted_probs.numpy())\n",
    "\n",
    "all_predictions = np.array(all_predictions) \n",
    "fpr, tpr, thresholds = roc_curve(all_labels, all_predictions[:, 1])\n",
    "roc_auc = auc(fpr, tpr)\n",
    "\n",
    "plt.figure()\n",
    "plt.plot(fpr, tpr, color='darkorange', lw=2, label=f'ROC curve (AUC = {roc_auc:.2f})')\n",
    "plt.plot([0, 1], [0, 1], color='navy', lw=2, linestyle='--')\n",
    "plt.xlabel('False Positive Rate')\n",
    "plt.ylabel('True Positive Rate')\n",
    "plt.title('Receiver Operating Characteristic (ROC) Curve')\n",
    "plt.legend(loc='lower right')\n",
    "plt.show()\n",
    "\n",
    "#wandb.log({\"ROC Curve\": wandb.Image(plt)})\n",
    "\n",
    "plt.close()"
   ]
  },
  {
   "cell_type": "code",
   "execution_count": 19,
   "metadata": {},
   "outputs": [
    {
     "name": "stdout",
     "output_type": "stream",
     "text": [
      "Test Accuracy: 81.95%\n"
     ]
    }
   ],
   "source": [
    "#calcular el accuracy del test\n",
    "resnet18.eval()\n",
    "correct_test = 0\n",
    "total_test = 0\n",
    "with torch.no_grad():\n",
    "    for images, labels in test_loader:\n",
    "        images = images.to(device)\n",
    "        labels = labels.to(device)\n",
    "\n",
    "        outputs = resnet18(images)\n",
    "\n",
    "        _, predicted = torch.max(outputs.data, 1)\n",
    "        total_test += labels.size(0)\n",
    "        correct_test += (predicted == labels).sum().item()\n",
    "\n",
    "test_accuracy = 100 * correct_test / total_test\n",
    "print(f'Test Accuracy: {test_accuracy:.2f}%')"
   ]
  },
  {
   "cell_type": "code",
   "execution_count": 20,
   "metadata": {},
   "outputs": [
    {
     "data": {
      "text/html": [
       "<style>\n",
       "    table.wandb td:nth-child(1) { padding: 0 10px; text-align: left ; width: auto;} td:nth-child(2) {text-align: left ; width: 100%}\n",
       "    .wandb-row { display: flex; flex-direction: row; flex-wrap: wrap; justify-content: flex-start; width: 100% }\n",
       "    .wandb-col { display: flex; flex-direction: column; flex-basis: 100%; flex: 1; padding: 10px; }\n",
       "    </style>\n",
       "<div class=\"wandb-row\"><div class=\"wandb-col\"><h3>Run history:</h3><br/><table class=\"wandb\"><tr><td>Train Acc</td><td>▁▂▃▄▅▅▅▆▅▅▆▆▆▇▆▆▆▆▆▆▇▇▇▆▇▇▇▇▇▇▇▇▇▇██████</td></tr><tr><td>Train Loss</td><td>██▇▆▅▅▆▅▆▅▅▅▄▄▄▄▅▄▅▄▃▃▃▄▄▃▃▂▃▃▂▂▃▂▂▂▂▁▂▁</td></tr><tr><td>Valid Acc</td><td>▁▂▄▃▄▃▅▄▆▅▅▅▅▅▅▄▇▆▇▇▆▆▆▆█▇▇▇▆▆▇▇███▇▇▆▇▇</td></tr><tr><td>Valid Loss</td><td>██▇▇▇▇▇▇▆▅▆▆▆▆▆▆▃▄▄▄▄▄▄▅▂▃▃▂▃▄▃▄▁▁▂▂▃▄▃▃</td></tr></table><br/></div><div class=\"wandb-col\"><h3>Run summary:</h3><br/><table class=\"wandb\"><tr><td>Train Acc</td><td>78.96528</td></tr><tr><td>Train Loss</td><td>0.4224</td></tr><tr><td>Valid Acc</td><td>79.83651</td></tr><tr><td>Valid Loss</td><td>0.4517</td></tr></table><br/></div></div>"
      ],
      "text/plain": [
       "<IPython.core.display.HTML object>"
      ]
     },
     "metadata": {},
     "output_type": "display_data"
    },
    {
     "data": {
      "text/html": [
       " View run <strong style=\"color:#cdcd00\">Prueba5_Adam</strong> at: <a href='https://wandb.ai/data2023/FaceRecognition/runs/8djrsfjw' target=\"_blank\">https://wandb.ai/data2023/FaceRecognition/runs/8djrsfjw</a><br/>Synced 5 W&B file(s), 0 media file(s), 0 artifact file(s) and 0 other file(s)"
      ],
      "text/plain": [
       "<IPython.core.display.HTML object>"
      ]
     },
     "metadata": {},
     "output_type": "display_data"
    },
    {
     "data": {
      "text/html": [
       "Find logs at: <code>.\\wandb\\run-20231223_203247-8djrsfjw\\logs</code>"
      ],
      "text/plain": [
       "<IPython.core.display.HTML object>"
      ]
     },
     "metadata": {},
     "output_type": "display_data"
    }
   ],
   "source": [
    "wandb.finish()"
   ]
  },
  {
   "cell_type": "code",
   "execution_count": 21,
   "metadata": {},
   "outputs": [],
   "source": [
    "# Define a file path where you want to save the trained model\n",
    "model_save_path = 'resnet18_Adamw81.pth'\n",
    "\n",
    "# guardar ek modelo entrenado\n",
    "torch.save(resnet18, model_save_path)"
   ]
  },
  {
   "cell_type": "code",
   "execution_count": 39,
   "metadata": {},
   "outputs": [
    {
     "data": {
      "text/plain": [
       "ResNet(\n",
       "  (conv1): Conv2d(3, 64, kernel_size=(7, 7), stride=(2, 2), padding=(3, 3), bias=False)\n",
       "  (bn1): BatchNorm2d(64, eps=1e-05, momentum=0.1, affine=True, track_running_stats=True)\n",
       "  (relu): ReLU(inplace=True)\n",
       "  (maxpool): MaxPool2d(kernel_size=3, stride=2, padding=1, dilation=1, ceil_mode=False)\n",
       "  (layer1): Sequential(\n",
       "    (0): BasicBlock(\n",
       "      (conv1): Conv2d(64, 64, kernel_size=(3, 3), stride=(1, 1), padding=(1, 1), bias=False)\n",
       "      (bn1): BatchNorm2d(64, eps=1e-05, momentum=0.1, affine=True, track_running_stats=True)\n",
       "      (relu): ReLU(inplace=True)\n",
       "      (conv2): Conv2d(64, 64, kernel_size=(3, 3), stride=(1, 1), padding=(1, 1), bias=False)\n",
       "      (bn2): BatchNorm2d(64, eps=1e-05, momentum=0.1, affine=True, track_running_stats=True)\n",
       "    )\n",
       "    (1): BasicBlock(\n",
       "      (conv1): Conv2d(64, 64, kernel_size=(3, 3), stride=(1, 1), padding=(1, 1), bias=False)\n",
       "      (bn1): BatchNorm2d(64, eps=1e-05, momentum=0.1, affine=True, track_running_stats=True)\n",
       "      (relu): ReLU(inplace=True)\n",
       "      (conv2): Conv2d(64, 64, kernel_size=(3, 3), stride=(1, 1), padding=(1, 1), bias=False)\n",
       "      (bn2): BatchNorm2d(64, eps=1e-05, momentum=0.1, affine=True, track_running_stats=True)\n",
       "    )\n",
       "  )\n",
       "  (layer2): Sequential(\n",
       "    (0): BasicBlock(\n",
       "      (conv1): Conv2d(64, 128, kernel_size=(3, 3), stride=(2, 2), padding=(1, 1), bias=False)\n",
       "      (bn1): BatchNorm2d(128, eps=1e-05, momentum=0.1, affine=True, track_running_stats=True)\n",
       "      (relu): ReLU(inplace=True)\n",
       "      (conv2): Conv2d(128, 128, kernel_size=(3, 3), stride=(1, 1), padding=(1, 1), bias=False)\n",
       "      (bn2): BatchNorm2d(128, eps=1e-05, momentum=0.1, affine=True, track_running_stats=True)\n",
       "      (downsample): Sequential(\n",
       "        (0): Conv2d(64, 128, kernel_size=(1, 1), stride=(2, 2), bias=False)\n",
       "        (1): BatchNorm2d(128, eps=1e-05, momentum=0.1, affine=True, track_running_stats=True)\n",
       "      )\n",
       "    )\n",
       "    (1): BasicBlock(\n",
       "      (conv1): Conv2d(128, 128, kernel_size=(3, 3), stride=(1, 1), padding=(1, 1), bias=False)\n",
       "      (bn1): BatchNorm2d(128, eps=1e-05, momentum=0.1, affine=True, track_running_stats=True)\n",
       "      (relu): ReLU(inplace=True)\n",
       "      (conv2): Conv2d(128, 128, kernel_size=(3, 3), stride=(1, 1), padding=(1, 1), bias=False)\n",
       "      (bn2): BatchNorm2d(128, eps=1e-05, momentum=0.1, affine=True, track_running_stats=True)\n",
       "    )\n",
       "  )\n",
       "  (layer3): Sequential(\n",
       "    (0): BasicBlock(\n",
       "      (conv1): Conv2d(128, 256, kernel_size=(3, 3), stride=(2, 2), padding=(1, 1), bias=False)\n",
       "      (bn1): BatchNorm2d(256, eps=1e-05, momentum=0.1, affine=True, track_running_stats=True)\n",
       "      (relu): ReLU(inplace=True)\n",
       "      (conv2): Conv2d(256, 256, kernel_size=(3, 3), stride=(1, 1), padding=(1, 1), bias=False)\n",
       "      (bn2): BatchNorm2d(256, eps=1e-05, momentum=0.1, affine=True, track_running_stats=True)\n",
       "      (downsample): Sequential(\n",
       "        (0): Conv2d(128, 256, kernel_size=(1, 1), stride=(2, 2), bias=False)\n",
       "        (1): BatchNorm2d(256, eps=1e-05, momentum=0.1, affine=True, track_running_stats=True)\n",
       "      )\n",
       "    )\n",
       "    (1): BasicBlock(\n",
       "      (conv1): Conv2d(256, 256, kernel_size=(3, 3), stride=(1, 1), padding=(1, 1), bias=False)\n",
       "      (bn1): BatchNorm2d(256, eps=1e-05, momentum=0.1, affine=True, track_running_stats=True)\n",
       "      (relu): ReLU(inplace=True)\n",
       "      (conv2): Conv2d(256, 256, kernel_size=(3, 3), stride=(1, 1), padding=(1, 1), bias=False)\n",
       "      (bn2): BatchNorm2d(256, eps=1e-05, momentum=0.1, affine=True, track_running_stats=True)\n",
       "    )\n",
       "  )\n",
       "  (layer4): Sequential(\n",
       "    (0): BasicBlock(\n",
       "      (conv1): Conv2d(256, 512, kernel_size=(3, 3), stride=(2, 2), padding=(1, 1), bias=False)\n",
       "      (bn1): BatchNorm2d(512, eps=1e-05, momentum=0.1, affine=True, track_running_stats=True)\n",
       "      (relu): ReLU(inplace=True)\n",
       "      (conv2): Conv2d(512, 512, kernel_size=(3, 3), stride=(1, 1), padding=(1, 1), bias=False)\n",
       "      (bn2): BatchNorm2d(512, eps=1e-05, momentum=0.1, affine=True, track_running_stats=True)\n",
       "      (downsample): Sequential(\n",
       "        (0): Conv2d(256, 512, kernel_size=(1, 1), stride=(2, 2), bias=False)\n",
       "        (1): BatchNorm2d(512, eps=1e-05, momentum=0.1, affine=True, track_running_stats=True)\n",
       "      )\n",
       "    )\n",
       "    (1): BasicBlock(\n",
       "      (conv1): Conv2d(512, 512, kernel_size=(3, 3), stride=(1, 1), padding=(1, 1), bias=False)\n",
       "      (bn1): BatchNorm2d(512, eps=1e-05, momentum=0.1, affine=True, track_running_stats=True)\n",
       "      (relu): ReLU(inplace=True)\n",
       "      (conv2): Conv2d(512, 512, kernel_size=(3, 3), stride=(1, 1), padding=(1, 1), bias=False)\n",
       "      (bn2): BatchNorm2d(512, eps=1e-05, momentum=0.1, affine=True, track_running_stats=True)\n",
       "    )\n",
       "  )\n",
       "  (avgpool): AdaptiveAvgPool2d(output_size=(1, 1))\n",
       "  (fc): Sequential(\n",
       "    (0): Linear(in_features=512, out_features=512, bias=True)\n",
       "    (1): ReLU(inplace=True)\n",
       "    (2): Dropout(p=0.5, inplace=False)\n",
       "    (3): Linear(in_features=512, out_features=256, bias=True)\n",
       "    (4): ReLU(inplace=True)\n",
       "    (5): Dropout(p=0.3, inplace=False)\n",
       "    (6): Linear(in_features=256, out_features=2, bias=True)\n",
       "  )\n",
       ")"
      ]
     },
     "execution_count": 39,
     "metadata": {},
     "output_type": "execute_result"
    }
   ],
   "source": [
    "model_save_path = 'resnet18_Adamw81_95.pth'\n",
    "\n",
    "# Carga todo el modelo completo\n",
    "loaded_model = torch.load(model_save_path)\n",
    "\n",
    "# Asegúrate de establecer el modelo en modo de evaluación\n",
    "\n",
    "loaded_model.eval()"
   ]
  },
  {
   "cell_type": "code",
   "execution_count": 38,
   "metadata": {},
   "outputs": [
    {
     "name": "stdout",
     "output_type": "stream",
     "text": [
      "Test Accuracy: 62.07%\n"
     ]
    }
   ],
   "source": [
    "#calcular el accuracy del test\n",
    "correct_test = 0\n",
    "total_test = 0\n",
    "with torch.no_grad():\n",
    "    for images, labels in test_loader:\n",
    "        images = images.to(device)\n",
    "        labels = labels.to(device)\n",
    "\n",
    "        outputs = loaded_model(images)\n",
    "\n",
    "        _, predicted = torch.max(outputs.data, 1)\n",
    "        total_test += labels.size(0)\n",
    "        correct_test += (predicted == labels).sum().item()\n",
    "\n",
    "test_accuracy = 100 * correct_test / total_test\n",
    "print(f'Test Accuracy: {test_accuracy:.2f}%')"
   ]
  }
 ],
 "metadata": {
  "kernelspec": {
   "display_name": "aa2",
   "language": "python",
   "name": "python3"
  },
  "language_info": {
   "codemirror_mode": {
    "name": "ipython",
    "version": 3
   },
   "file_extension": ".py",
   "mimetype": "text/x-python",
   "name": "python",
   "nbconvert_exporter": "python",
   "pygments_lexer": "ipython3",
   "version": "3.8.18"
  }
 },
 "nbformat": 4,
 "nbformat_minor": 2
}
