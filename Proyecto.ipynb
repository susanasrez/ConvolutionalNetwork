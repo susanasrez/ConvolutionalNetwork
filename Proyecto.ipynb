{
 "cells": [
  {
   "cell_type": "markdown",
   "metadata": {},
   "source": [
    "Proyecto inicial"
   ]
  }
 ],
 "metadata": {
  "kernelspec": {
   "display_name": "aa2",
   "language": "python",
   "name": "python3"
  },
  "language_info": {
   "name": "python",
   "version": "3.8.18"
  }
 },
 "nbformat": 4,
 "nbformat_minor": 2
}
